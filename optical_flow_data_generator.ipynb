{
 "cells": [
  {
   "cell_type": "code",
   "execution_count": 65,
   "metadata": {},
   "outputs": [
    {
     "name": "stdout",
     "output_type": "stream",
     "text": [
      "Started recording\n"
     ]
    },
    {
     "name": "stderr",
     "output_type": "stream",
     "text": [
      "Converting to optical flow: 100%|██████████████████████████████████████████████████████| 94/94 [00:04<00:00, 22.12it/s]\n",
      "Saving asc0: 100%|████████████████████████████████████████████████████████████████████| 94/94 [00:00<00:00, 964.65it/s]\n"
     ]
    },
    {
     "name": "stdout",
     "output_type": "stream",
     "text": [
      "Started recording\n"
     ]
    },
    {
     "name": "stderr",
     "output_type": "stream",
     "text": [
      "Converting to optical flow: 100%|████████████████████████████████████████████████████| 128/128 [00:05<00:00, 22.21it/s]\n",
      "Saving desc0: 100%|█████████████████████████████████████████████████████████████████| 128/128 [00:00<00:00, 857.82it/s]\n"
     ]
    }
   ],
   "source": [
    "import cv2 as cv\n",
    "import numpy as np\n",
    "from tqdm import tqdm\n",
    "\n",
    "vno = 0\n",
    "\n",
    "cap = cv.VideoCapture(0)\n",
    "fps = int(cap.get(cv.CAP_PROP_FPS))\n",
    "fourcc = cv.VideoWriter_fourcc(*'mp4v')\n",
    "width = 320\n",
    "height = 320\n",
    "vid_cv = []\n",
    "op_flo_cv = []\n",
    "flag = False\n",
    "\n",
    "while(1):\n",
    "    ret, frame = cap.read()\n",
    "    frame = cv.flip(frame,1)\n",
    "    crop = frame[60:-60,320:]\n",
    "    crop = cv.resize(crop,(320,320))\n",
    "    #cv.imshow(\"frame\", frame)\n",
    "    cv.imshow(\"crop\", crop)\n",
    "    k = cv.waitKey(5) & 0xFF\n",
    "    if k == 27:\n",
    "        break\n",
    "    if k == ord('s'):\n",
    "        if flag == False:\n",
    "            print(\"Started recording\")\n",
    "            vid_cv.clear()\n",
    "            op_flo_cv.clear()\n",
    "            flag = True\n",
    "        else:\n",
    "            flag = False\n",
    "            if vno%2 == True or vno==0:\n",
    "                order = \"asc\"\n",
    "            else:\n",
    "                order = \"desc\"\n",
    "            #convert to optical flow\n",
    "            first_frame = vid_cv[0]\n",
    "            prev_gray = cv.cvtColor(first_frame,cv.COLOR_BGR2GRAY)\n",
    "            mask = np.zeros_like(first_frame)\n",
    "            # Sets image saturation to maximum\n",
    "            mask[..., 1] = 255\n",
    "            for i in tqdm(range(1, len(vid_cv)-1), desc=\"Converting to optical flow\"):\n",
    "                gray = cv.cvtColor(vid_cv[i], cv.COLOR_BGR2GRAY)\n",
    "                flow = cv.calcOpticalFlowFarneback(prev_gray, gray, None, 0.5, 3, 15, 3, 5, 1.2, 0)\n",
    "                # Computes the magnitude and angle of the 2D vectors\n",
    "                magnitude, angle = cv.cartToPolar(flow[..., 0], flow[..., 1])\n",
    "                # Sets image hue according to the optical flow direction\n",
    "                mask[..., 0] = angle * 180 / np.pi / 2\n",
    "                # Sets image value according to the optical flow magnitude (normalized)\n",
    "                mask[..., 2] = cv.normalize(magnitude, None, 0, 255, cv.NORM_MINMAX)\n",
    "                # Converts HSV to RGB (BGR) color representation\n",
    "                rgb = cv.cvtColor(mask, cv.COLOR_HSV2BGR)\n",
    "                rgb = np.array(rgb)\n",
    "                op_flo_cv.append(rgb)\n",
    "                # Updates previous frame\n",
    "                prev_gray = gray\n",
    "            \n",
    "            #Save video\n",
    "            video = cv.VideoWriter(\"data/optical_flow_\"+str(order)+\"_\"+str(int(vno))+\".mp4\",fourcc, fps, (width, height), 1)\n",
    "            for i in tqdm(range(0, len(op_flo_cv)), desc=\"Saving \"+str(order)+str(int(vno))):\n",
    "                video.write(np.array(op_flo_cv[i]))\n",
    "            video.release()\n",
    "            \n",
    "            vno += 0.5\n",
    "    if flag == True:\n",
    "        img = np.array(crop)\n",
    "        vid_cv.append(img)\n",
    "cv.destroyAllWindows()\n",
    "cap.release()"
   ]
  },
  {
   "cell_type": "code",
   "execution_count": null,
   "metadata": {},
   "outputs": [],
   "source": []
  }
 ],
 "metadata": {
  "kernelspec": {
   "display_name": "Python 3",
   "language": "python",
   "name": "python3"
  },
  "language_info": {
   "codemirror_mode": {
    "name": "ipython",
    "version": 3
   },
   "file_extension": ".py",
   "mimetype": "text/x-python",
   "name": "python",
   "nbconvert_exporter": "python",
   "pygments_lexer": "ipython3",
   "version": "3.7.6"
  }
 },
 "nbformat": 4,
 "nbformat_minor": 2
}
